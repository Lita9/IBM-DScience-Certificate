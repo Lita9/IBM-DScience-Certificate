{
 "cells": [
  {
   "cell_type": "markdown",
   "id": "a976a972-60f1-4e84-9768-c08e861e6313",
   "metadata": {},
   "source": [
    "# My Jupyter Notebook on IBM Watson Studio\n",
    "\n",
    "\n",
    "\n",
    "\n"
   ]
  },
  {
   "cell_type": "markdown",
   "id": "7a544469-79e6-4cc2-9b48-8936430dc4e9",
   "metadata": {},
   "source": [
    "**Paula Gil Martínez**\n",
    "I want to be a data scientist."
   ]
  },
  {
   "cell_type": "markdown",
   "id": "441cdd44-c112-4c9d-b232-c55a58e766b3",
   "metadata": {},
   "source": [
    "\"*\" I am interested in data science because I think it is an interesting field and\n",
    "I love everything related to data\"*\""
   ]
  },
  {
   "cell_type": "markdown",
   "id": "5bf12cbc-0fcc-490c-8cb7-51e5188a04e8",
   "metadata": {},
   "source": [
    "### My code is going to do this multiplication 3*5"
   ]
  },
  {
   "cell_type": "code",
   "execution_count": 1,
   "id": "66c00644-4ca3-4007-8ea9-dd5d3e0f0494",
   "metadata": {},
   "outputs": [
    {
     "data": {
      "text/plain": [
       "15"
      ]
     },
     "execution_count": 1,
     "metadata": {},
     "output_type": "execute_result"
    }
   ],
   "source": [
    "\n",
    "3*5"
   ]
  },
  {
   "cell_type": "markdown",
   "id": "654d905d-6a70-4987-9575-acd34829e8f0",
   "metadata": {},
   "source": [
    "*  One\n",
    "*  Two\n",
    "*  Three\n",
    "*  Four\n",
    "\n",
    "\n",
    "\n",
    "\n",
    "| num1| num2 | num3 | num4 |\n",
    "| ------ | ------ | ------ | ------ |\n",
    "| 1 | 2 | 3 | 4 |\n",
    "\n",
    "\n",
    "<ol><li>One</li><li>Two</li><li>Three</li><li>Four</li></ol>\n",
    "\n",
    "\n",
    "\n"
   ]
  },
  {
   "cell_type": "code",
   "execution_count": null,
   "id": "5acfbce0-74ee-4072-a5aa-d372ed1e1589",
   "metadata": {},
   "outputs": [],
   "source": []
  },
  {
   "cell_type": "code",
   "execution_count": null,
   "id": "7e1c726d-d285-4261-bc43-fb6b4174f735",
   "metadata": {},
   "outputs": [],
   "source": []
  }
 ],
 "metadata": {
  "kernelspec": {
   "display_name": "Python",
   "language": "python",
   "name": "conda-env-python-py"
  },
  "language_info": {
   "codemirror_mode": {
    "name": "ipython",
    "version": 3
   },
   "file_extension": ".py",
   "mimetype": "text/x-python",
   "name": "python",
   "nbconvert_exporter": "python",
   "pygments_lexer": "ipython3",
   "version": "3.7.12"
  }
 },
 "nbformat": 4,
 "nbformat_minor": 5
}
